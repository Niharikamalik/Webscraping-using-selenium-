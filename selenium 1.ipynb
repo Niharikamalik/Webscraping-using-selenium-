{
 "cells": [
  {
   "cell_type": "code",
   "execution_count": 54,
   "id": "3caa3035",
   "metadata": {},
   "outputs": [],
   "source": [
    "from selenium import webdriver\n",
    "from selenium.webdriver.chrome.service import Service as ChromiumService\n",
    "from webdriver_manager.chrome import ChromeDriverManager\n",
    "from webdriver_manager.core.utils import ChromeType\n",
    "from selenium.webdriver.common.by import By\n",
    "\n",
    "\n",
    "driver = webdriver.Chrome(service=ChromiumService(ChromeDriverManager(chrome_type=ChromeType.CHROMIUM).install()))"
   ]
  },
  {
   "cell_type": "code",
   "execution_count": 55,
   "id": "7063929d",
   "metadata": {},
   "outputs": [],
   "source": [
    "driver.get('https://www.codingninjas.com/landing/cnsat/')"
   ]
  },
  {
   "cell_type": "code",
   "execution_count": 58,
   "id": "d5a929c7",
   "metadata": {},
   "outputs": [],
   "source": [
    "a = driver.find_elements(By.LINK_TEXT,'Our Courses')"
   ]
  },
  {
   "cell_type": "code",
   "execution_count": 59,
   "id": "81b51ed5",
   "metadata": {},
   "outputs": [],
   "source": [
    "a[0].click()"
   ]
  },
  {
   "cell_type": "code",
   "execution_count": 60,
   "id": "aa0dd7f5",
   "metadata": {},
   "outputs": [],
   "source": [
    "b = driver.find_elements(By.PARTIAL_LINK_TEXT,'Our')"
   ]
  },
  {
   "cell_type": "code",
   "execution_count": 61,
   "id": "2406df8a",
   "metadata": {},
   "outputs": [],
   "source": [
    "b[0].click()"
   ]
  },
  {
   "cell_type": "code",
   "execution_count": 62,
   "id": "2aee4bc3",
   "metadata": {},
   "outputs": [],
   "source": [
    "driver.maximize_window()"
   ]
  },
  {
   "cell_type": "code",
   "execution_count": 63,
   "id": "123da744",
   "metadata": {},
   "outputs": [
    {
     "data": {
      "text/plain": [
       "'https://www.codingninjas.com/landing/cnsat/'"
      ]
     },
     "execution_count": 63,
     "metadata": {},
     "output_type": "execute_result"
    }
   ],
   "source": [
    "driver.current_url"
   ]
  },
  {
   "cell_type": "code",
   "execution_count": 64,
   "id": "24427a3a",
   "metadata": {},
   "outputs": [],
   "source": [
    "driver.refresh()"
   ]
  },
  {
   "cell_type": "code",
   "execution_count": 65,
   "id": "9a6dc127",
   "metadata": {},
   "outputs": [],
   "source": [
    "driver.close()"
   ]
  },
  {
   "cell_type": "code",
   "execution_count": 66,
   "id": "7a651fae",
   "metadata": {},
   "outputs": [],
   "source": [
    "driver.quit()"
   ]
  }
 ],
 "metadata": {
  "kernelspec": {
   "display_name": "Python 3 (ipykernel)",
   "language": "python",
   "name": "python3"
  },
  "language_info": {
   "codemirror_mode": {
    "name": "ipython",
    "version": 3
   },
   "file_extension": ".py",
   "mimetype": "text/x-python",
   "name": "python",
   "nbconvert_exporter": "python",
   "pygments_lexer": "ipython3",
   "version": "3.9.13"
  }
 },
 "nbformat": 4,
 "nbformat_minor": 5
}
